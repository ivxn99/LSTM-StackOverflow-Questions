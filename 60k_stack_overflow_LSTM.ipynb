{
  "nbformat": 4,
  "nbformat_minor": 0,
  "metadata": {
    "colab": {
      "name": "60k stack overflow LSTM.ipynb",
      "provenance": [],
      "collapsed_sections": [],
      "toc_visible": true
    },
    "kernelspec": {
      "name": "python3",
      "display_name": "Python 3"
    },
    "accelerator": "GPU"
  },
  "cells": [
    {
      "cell_type": "code",
      "metadata": {
        "id": "W98zGX90UzFm",
        "colab_type": "code",
        "colab": {}
      },
      "source": [
        "import pandas as pd\n",
        "import numpy as np\n",
        "import re\n",
        "import matplotlib.pyplot as plt\n",
        "import tensorflow as tf\n",
        "from tensorflow import keras\n",
        "import tensorflow_hub as hub\n",
        "from tensorflow.keras.preprocessing.text import Tokenizer\n",
        "from tensorflow.keras.preprocessing.sequence import pad_sequences"
      ],
      "execution_count": 1,
      "outputs": []
    },
    {
      "cell_type": "code",
      "metadata": {
        "id": "pzhTLhSSUXBX",
        "colab_type": "code",
        "colab": {
          "base_uri": "https://localhost:8080/",
          "height": 204
        },
        "outputId": "cd362c9d-a2ed-4597-f1ee-800efc091c60"
      },
      "source": [
        "data_path = '/content/drive/My Drive/Datasets/60k_Stack_Overflow_Questions/data.csv'\n",
        "data = pd.read_csv(data_path)\n",
        "#data.Body = data.Body.map(lambda x: x.lstrip('<p>').rstrip('aAbBcC'))\n",
        "data.head()"
      ],
      "execution_count": 2,
      "outputs": [
        {
          "output_type": "execute_result",
          "data": {
            "text/html": [
              "<div>\n",
              "<style scoped>\n",
              "    .dataframe tbody tr th:only-of-type {\n",
              "        vertical-align: middle;\n",
              "    }\n",
              "\n",
              "    .dataframe tbody tr th {\n",
              "        vertical-align: top;\n",
              "    }\n",
              "\n",
              "    .dataframe thead th {\n",
              "        text-align: right;\n",
              "    }\n",
              "</style>\n",
              "<table border=\"1\" class=\"dataframe\">\n",
              "  <thead>\n",
              "    <tr style=\"text-align: right;\">\n",
              "      <th></th>\n",
              "      <th>Id</th>\n",
              "      <th>Title</th>\n",
              "      <th>Body</th>\n",
              "      <th>Tags</th>\n",
              "      <th>CreationDate</th>\n",
              "      <th>Y</th>\n",
              "    </tr>\n",
              "  </thead>\n",
              "  <tbody>\n",
              "    <tr>\n",
              "      <th>0</th>\n",
              "      <td>34552656</td>\n",
              "      <td>Java: Repeat Task Every Random Seconds</td>\n",
              "      <td>&lt;p&gt;I'm already familiar with repeating tasks e...</td>\n",
              "      <td>&lt;java&gt;&lt;repeat&gt;</td>\n",
              "      <td>2016-01-01 00:21:59</td>\n",
              "      <td>LQ_CLOSE</td>\n",
              "    </tr>\n",
              "    <tr>\n",
              "      <th>1</th>\n",
              "      <td>34552974</td>\n",
              "      <td>How to get all the child records from differen...</td>\n",
              "      <td>I am having 4 different tables like \\r\\nselect...</td>\n",
              "      <td>&lt;sql&gt;&lt;sql-server&gt;</td>\n",
              "      <td>2016-01-01 01:44:52</td>\n",
              "      <td>LQ_EDIT</td>\n",
              "    </tr>\n",
              "    <tr>\n",
              "      <th>2</th>\n",
              "      <td>34553034</td>\n",
              "      <td>Why are Java Optionals immutable?</td>\n",
              "      <td>&lt;p&gt;I'd like to understand why Java 8 Optionals...</td>\n",
              "      <td>&lt;java&gt;&lt;optional&gt;</td>\n",
              "      <td>2016-01-01 02:03:20</td>\n",
              "      <td>HQ</td>\n",
              "    </tr>\n",
              "    <tr>\n",
              "      <th>3</th>\n",
              "      <td>34553174</td>\n",
              "      <td>Text Overlay Image with Darkened Opacity React...</td>\n",
              "      <td>&lt;p&gt;I am attempting to overlay a title over an ...</td>\n",
              "      <td>&lt;javascript&gt;&lt;image&gt;&lt;overlay&gt;&lt;react-native&gt;&lt;opa...</td>\n",
              "      <td>2016-01-01 02:48:24</td>\n",
              "      <td>HQ</td>\n",
              "    </tr>\n",
              "    <tr>\n",
              "      <th>4</th>\n",
              "      <td>34553318</td>\n",
              "      <td>Why ternary operator in swift is so picky?</td>\n",
              "      <td>&lt;p&gt;The question is very simple, but I just cou...</td>\n",
              "      <td>&lt;swift&gt;&lt;operators&gt;&lt;whitespace&gt;&lt;ternary-operato...</td>\n",
              "      <td>2016-01-01 03:30:17</td>\n",
              "      <td>HQ</td>\n",
              "    </tr>\n",
              "  </tbody>\n",
              "</table>\n",
              "</div>"
            ],
            "text/plain": [
              "         Id  ...         Y\n",
              "0  34552656  ...  LQ_CLOSE\n",
              "1  34552974  ...   LQ_EDIT\n",
              "2  34553034  ...        HQ\n",
              "3  34553174  ...        HQ\n",
              "4  34553318  ...        HQ\n",
              "\n",
              "[5 rows x 6 columns]"
            ]
          },
          "metadata": {
            "tags": []
          },
          "execution_count": 2
        }
      ]
    },
    {
      "cell_type": "code",
      "metadata": {
        "id": "P_GO0GUJ-JBe",
        "colab_type": "code",
        "colab": {
          "base_uri": "https://localhost:8080/",
          "height": 120
        },
        "outputId": "d1664543-1024-4f28-95db-7603cd6a6281"
      },
      "source": [
        "data.Body[3]"
      ],
      "execution_count": 3,
      "outputs": [
        {
          "output_type": "execute_result",
          "data": {
            "application/vnd.google.colaboratory.intrinsic+json": {
              "type": "string"
            },
            "text/plain": [
              "'<p>I am attempting to overlay a title over an image - with the image darkened with a lower opacity. However, the opacity effect is changing the overlaying text as well - making it dim. Any fix to this? Here is what is looks like:</p>\\n\\n<p><a href=\"https://i.stack.imgur.com/1HzD7.png\" rel=\"noreferrer\"><img src=\"https://i.stack.imgur.com/1HzD7.png\" alt=\"enter image description here\"></a></p>\\n\\n<p>And here is my code for the custom component (article preview - which the above image is a row of article preview components): </p>\\n\\n<pre><code>//component for article preview touchable image\\n/* will require the following\\n- rss feed and api\\n- user\\'s keyword interests from parse In home.js\\n- parse db needs to be augmented to include what they heart\\n- parse db needs to be augmented to include what they press on (like google news)\\n*/\\nvar React = require(\\'react-native\\');\\nvar {\\n  View, \\n  StyleSheet, \\n  Text, \\n  Image, \\n  TouchableHighlight, \\n} = React;\\n\\n//dimensions\\nvar Dimensions = require(\\'Dimensions\\');\\nvar window = Dimensions.get(\\'window\\');\\nvar ImageButton = require(\\'../../common/imageButton\\');\\nvar KeywordBox = require(\\'../../authentication/onboarding/keyword-box\\');\\n\\n//additional libraries\\n\\nmodule.exports = React.createClass({\\n  //onPress function that triggers when button pressed\\n  //this.props.text is property that can be dynamically filled within button \\n  /* following props:\\n    - source={this.props.source}\\n    - onPress={this.props.onPress}\\n    - {this.props.text}\\n    - {this.props.heartText}\\n    - key={this.props.key} \\n    - text={this.props.category} \\n    - this.props.selected\\n  */\\n  render: function() {\\n    return (\\n      &lt;TouchableHighlight \\n        underlayColor={\\'transparent\\'}\\n        onPress={this.props.onPress} &gt;\\n          &lt;Image \\n            source={this.props.source} \\n            style={[styles.articlePreview, this.border(\\'red\\')]}&gt;\\n                  &lt;View style={[styles.container, this.border(\\'organge\\')]}&gt;\\n                      &lt;View style={[styles.header, this.border(\\'blue\\')]}&gt;\\n                          &lt;Text style={[styles.previewText]}&gt;{this.props.text}&lt;/Text&gt;\\n                      &lt;/View&gt;\\n                      &lt;View style={[styles.footer, this.border(\\'white\\')]}&gt;\\n                        &lt;View style={[styles.heartRow, this.border(\\'black\\')]}&gt;\\n                          &lt;ImageButton\\n                              style={[styles.heartBtn, , this.border(\\'red\\')]}\\n                              resizeMode={\\'contain\\'}\\n                              onPress={this.onHeartPress}\\n                              source={require(\\'../../img/heart_btn.png\\')} /&gt;\\n                          &lt;Text style={[styles.heartText]}&gt;{this.props.heartText + \\' favorites\\'}&lt;/Text&gt;\\n                        &lt;/View&gt;\\n                          &lt;KeywordBox \\n                              style={[styles.category, this.border(\\'blue\\')]}\\n                              key={this.props.key} \\n                              text={this.props.category} \\n                              onPress={this.props.categoryPress}\\n                              selected={this.props.selected} /&gt;\\n                      &lt;/View&gt;\\n                  &lt;/View&gt;\\n          &lt;/Image&gt;\\n      &lt;/TouchableHighlight&gt;\\n    );\\n  }, \\n  onHeartPress: function() {\\n    //will move this function to a general module\\n  }, \\n  border: function(color) {\\n      return {\\n        //borderColor: color, \\n        //borderWidth: 4,\\n      } \\n   },\\n});\\n\\nvar styles = StyleSheet.create({\\n  heartText: {\\n    color: \\'white\\', \\n    fontSize: 12, \\n    fontWeight: \\'bold\\',\\n    alignSelf: \\'center\\', \\n    marginLeft: 5, \\n    fontFamily: \\'SFCompactText-Medium\\'\\n  }, \\n  heartRow: {\\n    flexDirection: \\'row\\', \\n    justifyContent: \\'space-around\\', \\n    alignSelf: \\'center\\', \\n    justifyContent: \\'center\\', \\n  }, \\n  heartBtn: {\\n    height: (92/97)*(window.width/13), \\n    width: window.width/13, \\n    alignSelf:\\'center\\', \\n  }, \\n  category: {\\n    fontFamily: \\'Bebas Neue\\', \\n    fontSize: 10,\\n    fontWeight: \\'bold\\'\\n  }, \\n  header: {\\n    flex: 3, \\n    alignItems: \\'center\\', \\n    justifyContent: \\'space-around\\', \\n    marginTop: window.height/30,\\n  }, \\n  footer: {\\n    flex: 1, \\n    flexDirection: \\'row\\', \\n    justifyContent: \\'space-between\\', \\n    alignItems: \\'center\\', \\n    margin: window.height/50,\\n  }, \\n  container: {\\n    flex: 1, \\n    backgroundColor: \\'black\\', \\n    opacity: 0.6, \\n  }, \\n  articlePreview: {\\n    flex: 1, \\n    height: window.height/3.2, \\n    width: window.width, \\n    flexDirection: \\'column\\'\\n  }, \\n  previewText: {\\n    fontFamily: \\'Bebas Neue\\', \\n    fontSize: 23,\\n    color: \\'white\\', \\n    alignSelf: \\'center\\', \\n    textAlign: \\'center\\', \\n    margin: 5, \\n    position: \\'absolute\\',\\n    top: 0,\\n    right: 0,\\n    bottom: 0,\\n    left: 0\\n  }, \\n\\n});\\n</code></pre>\\n'"
            ]
          },
          "metadata": {
            "tags": []
          },
          "execution_count": 3
        }
      ]
    },
    {
      "cell_type": "code",
      "metadata": {
        "id": "OMLKXEj3_aCL",
        "colab_type": "code",
        "colab": {}
      },
      "source": [
        "import re\n",
        "\n",
        "def cleanhtml(raw_html):\n",
        "  cleanr = re.compile('<.*?>')\n",
        "  cleantext = re.sub(cleanr, '', raw_html)\n",
        "  cleantext = re.sub(r'([a-zA-Z0-9+._-]+@[a-zA-Z0-9._-]+\\.[a-zA-Z0-9_-]+)', '', cleantext) \n",
        "  #regex to remove to emails(above)\n",
        "  cleantext = re.sub(r'(http|ftp|https)://([\\w_-]+(?:(?:\\.[\\w_-]+)+))([\\w.,@?^=%&:/~+#-]*[\\w@?^=%&/~+#-])?', '', cleantext)\n",
        "  return cleantext\n",
        "\n",
        "data.Body = data['Body'].apply(lambda x: cleanhtml(x))\n"
      ],
      "execution_count": 4,
      "outputs": []
    },
    {
      "cell_type": "code",
      "metadata": {
        "id": "MHp1DBqcUxyl",
        "colab_type": "code",
        "colab": {}
      },
      "source": [
        "X = data.Body\n",
        "y = data.Y.map({'LQ_CLOSE':0,'LQ_EDIT':1,'HQ':2})"
      ],
      "execution_count": 5,
      "outputs": []
    },
    {
      "cell_type": "code",
      "metadata": {
        "id": "Hf5_GZApsQtJ",
        "colab_type": "code",
        "colab": {
          "base_uri": "https://localhost:8080/",
          "height": 85
        },
        "outputId": "5f87ed6e-4fdc-4837-d8c8-a42553306943"
      },
      "source": [
        "train_size = int(len(X) * 0.7)\n",
        "X_train, y_train = X[0:train_size], y[0:train_size]\n",
        "X_test, y_test = X[train_size:], y[train_size:]\n",
        "\n",
        "print(\"X_train shape:\",X_train.shape)\n",
        "print(\"X_test shape:\",X_test.shape)\n",
        "print(\"y_train shape:\", y_train.shape)\n",
        "print(\"y_test shape:\", y_test.shape)"
      ],
      "execution_count": 6,
      "outputs": [
        {
          "output_type": "stream",
          "text": [
            "X_train shape: (42000,)\n",
            "X_test shape: (18000,)\n",
            "y_train shape: (42000,)\n",
            "y_test shape: (18000,)\n"
          ],
          "name": "stdout"
        }
      ]
    },
    {
      "cell_type": "code",
      "metadata": {
        "id": "qaUwNSXXWh02",
        "colab_type": "code",
        "colab": {
          "base_uri": "https://localhost:8080/",
          "height": 34
        },
        "outputId": "818b4593-dd6c-4b5a-a001-290285d0bcf4"
      },
      "source": [
        "vocab_size = 30000\n",
        "embedding_dim = 16\n",
        "max_length = 150\n",
        "\n",
        "tokenizer = Tokenizer(vocab_size, oov_token=\"<OOV>\")\n",
        "tokenizer.fit_on_texts(X_train)\n",
        "word_index = tokenizer.word_index\n",
        "print(len(word_index))"
      ],
      "execution_count": 7,
      "outputs": [
        {
          "output_type": "stream",
          "text": [
            "172531\n"
          ],
          "name": "stdout"
        }
      ]
    },
    {
      "cell_type": "code",
      "metadata": {
        "id": "5HWDch1xZrZv",
        "colab_type": "code",
        "colab": {}
      },
      "source": [
        "train_sequences = tokenizer.texts_to_sequences(X_train)\n",
        "\n",
        "train_padded = tf.keras.preprocessing.sequence.pad_sequences(train_sequences,\n",
        "                                                       padding='post',\n",
        "                                                       maxlen=max_length,\n",
        "                                                       truncating='post')\n",
        "\n",
        "test_sequences = tokenizer.texts_to_sequences(X_test)\n",
        "test_padded = tf.keras.preprocessing.sequence.pad_sequences(test_sequences, maxlen=max_length)"
      ],
      "execution_count": 9,
      "outputs": []
    },
    {
      "cell_type": "code",
      "metadata": {
        "id": "8VbULqYjyeq-",
        "colab_type": "code",
        "colab": {
          "base_uri": "https://localhost:8080/",
          "height": 51
        },
        "outputId": "4cd9f33e-85be-4e23-97e0-8fb539ff958f"
      },
      "source": [
        "print(train_padded.shape)\n",
        "print(test_padded.shape)"
      ],
      "execution_count": 12,
      "outputs": [
        {
          "output_type": "stream",
          "text": [
            "(42000, 150)\n",
            "(18000, 150)\n"
          ],
          "name": "stdout"
        }
      ]
    },
    {
      "cell_type": "code",
      "metadata": {
        "id": "x-1iEKPfc4un",
        "colab_type": "code",
        "colab": {}
      },
      "source": [
        "import math\n",
        "\n",
        "def step_decay(epoch):\n",
        "   initial_lrate = 0.1\n",
        "   drop = 0.5\n",
        "   epochs_drop = 10.0\n",
        "   lrate = initial_lrate * math.pow(drop,  \n",
        "           math.floor((1+epoch)/epochs_drop))\n",
        "   return lrate\n",
        "lrate = tf.keras.callbacks.LearningRateScheduler(step_decay)"
      ],
      "execution_count": 13,
      "outputs": []
    },
    {
      "cell_type": "code",
      "metadata": {
        "id": "eZ8AKrUrZ7SC",
        "colab_type": "code",
        "colab": {
          "base_uri": "https://localhost:8080/",
          "height": 357
        },
        "outputId": "b96fcd94-047e-4448-98d0-60f1c04a5b84"
      },
      "source": [
        "model = tf.keras.Sequential([\n",
        "                             tf.keras.layers.Embedding(vocab_size, embedding_dim, input_length=(max_length)),\n",
        "                             tf.keras.layers.Bidirectional(tf.keras.layers.LSTM(50, return_sequences=True)),\n",
        "                             tf.keras.layers.Bidirectional(tf.keras.layers.LSTM(50)),\n",
        "                             tf.keras.layers.Dropout(0.3),\n",
        "                             tf.keras.layers.Dense(units=vocab_size/100, activation='relu'),\n",
        "                             tf.keras.layers.Dense(3, activation='softmax')\n",
        "\n",
        "])\n",
        "model.summary()"
      ],
      "execution_count": 14,
      "outputs": [
        {
          "output_type": "stream",
          "text": [
            "Model: \"sequential\"\n",
            "_________________________________________________________________\n",
            "Layer (type)                 Output Shape              Param #   \n",
            "=================================================================\n",
            "embedding (Embedding)        (None, 150, 16)           480000    \n",
            "_________________________________________________________________\n",
            "bidirectional (Bidirectional (None, 150, 100)          26800     \n",
            "_________________________________________________________________\n",
            "bidirectional_1 (Bidirection (None, 100)               60400     \n",
            "_________________________________________________________________\n",
            "dropout (Dropout)            (None, 100)               0         \n",
            "_________________________________________________________________\n",
            "dense (Dense)                (None, 300)               30300     \n",
            "_________________________________________________________________\n",
            "dense_1 (Dense)              (None, 3)                 903       \n",
            "=================================================================\n",
            "Total params: 598,403\n",
            "Trainable params: 598,403\n",
            "Non-trainable params: 0\n",
            "_________________________________________________________________\n"
          ],
          "name": "stdout"
        }
      ]
    },
    {
      "cell_type": "code",
      "metadata": {
        "id": "ahKdKyVJwvIQ",
        "colab_type": "code",
        "colab": {
          "base_uri": "https://localhost:8080/",
          "height": 357
        },
        "outputId": "20c7c7e5-f7f4-498e-aa24-8e192aaa7e04"
      },
      "source": [
        "model.compile(loss='sparse_categorical_crossentropy',\n",
        "              optimizer=tf.keras.optimizers.Adam(lr=0.001),\n",
        "              metrics=['accuracy'])\n",
        "history = model.fit(train_padded, y_train, epochs=10)"
      ],
      "execution_count": 16,
      "outputs": [
        {
          "output_type": "stream",
          "text": [
            "Epoch 1/10\n",
            "1313/1313 [==============================] - 170s 129ms/step - loss: 0.3999 - accuracy: 0.8534\n",
            "Epoch 2/10\n",
            "1313/1313 [==============================] - 170s 129ms/step - loss: 0.3165 - accuracy: 0.8899\n",
            "Epoch 3/10\n",
            "1313/1313 [==============================] - 170s 129ms/step - loss: 0.2644 - accuracy: 0.9110\n",
            "Epoch 4/10\n",
            "1313/1313 [==============================] - 170s 130ms/step - loss: 0.2283 - accuracy: 0.9240\n",
            "Epoch 5/10\n",
            "1313/1313 [==============================] - 170s 129ms/step - loss: 0.1841 - accuracy: 0.9393\n",
            "Epoch 6/10\n",
            "1313/1313 [==============================] - 170s 129ms/step - loss: 0.1530 - accuracy: 0.9507\n",
            "Epoch 7/10\n",
            "1313/1313 [==============================] - 170s 129ms/step - loss: 0.1290 - accuracy: 0.9579\n",
            "Epoch 8/10\n",
            "1313/1313 [==============================] - 170s 130ms/step - loss: 0.1068 - accuracy: 0.9667\n",
            "Epoch 9/10\n",
            "1313/1313 [==============================] - 170s 130ms/step - loss: 0.0863 - accuracy: 0.9735\n",
            "Epoch 10/10\n",
            "1313/1313 [==============================] - 170s 129ms/step - loss: 0.0725 - accuracy: 0.9768\n"
          ],
          "name": "stdout"
        }
      ]
    },
    {
      "cell_type": "code",
      "metadata": {
        "id": "Ukan9JK_yi__",
        "colab_type": "code",
        "colab": {
          "base_uri": "https://localhost:8080/",
          "height": 316
        },
        "outputId": "76b677fb-f0d2-4c41-f099-3b9e6d4df868"
      },
      "source": [
        "plt.style.use('ggplot')\n",
        "fig, (ax1, ax2) = plt.subplots(nrows=1,ncols=2, figsize=(10, 4), sharex=True)\n",
        "ax1.plot(history.history['accuracy'], label='Train')\n",
        "#ax1.plot(history.history['val_accuracy'],label='Validation')\n",
        "ax1.set_xlabel('Epochs')\n",
        "ax1.set_ylabel('Accuracy %')\n",
        "ax1.set_title('Accuracy per Epoch')\n",
        "ax1.legend()\n",
        "\n",
        "\n",
        "ax2.plot(history.history['loss'], label='train')\n",
        "#ax2.plot(history.history['val_loss'], label='validation')\n",
        "ax2.set_ylabel(\"Loss\")\n",
        "ax2.set_title(\"Loss per epoch\")\n",
        "ax2.legend()"
      ],
      "execution_count": 17,
      "outputs": [
        {
          "output_type": "execute_result",
          "data": {
            "text/plain": [
              "<matplotlib.legend.Legend at 0x7ff9ed8a8748>"
            ]
          },
          "metadata": {
            "tags": []
          },
          "execution_count": 17
        },
        {
          "output_type": "display_data",
          "data": {
            "image/png": "[encoded data removed]",
            "text/plain": [
              "<Figure size 720x288 with 2 Axes>"
            ]
          },
          "metadata": {
            "tags": []
          }
        }
      ]
    },
    {
      "cell_type": "code",
      "metadata": {
        "id": "Ns67JsLJ7DBG",
        "colab_type": "code",
        "colab": {
          "base_uri": "https://localhost:8080/",
          "height": 34
        },
        "outputId": "f3e93a58-baec-4eee-f2ca-41d342097fcc"
      },
      "source": [
        "scores = model.evaluate(test_padded, y_test, verbose=0)\n",
        "print(\"Accuracy: %.2f%%\" % (scores[1]*100))"
      ],
      "execution_count": 18,
      "outputs": [
        {
          "output_type": "stream",
          "text": [
            "Accuracy: 80.86%\n"
          ],
          "name": "stdout"
        }
      ]
    },
    {
      "cell_type": "markdown",
      "metadata": {
        "id": "pHtjAaWSAtWz",
        "colab_type": "text"
      },
      "source": [
        "# Prediction of custom question data"
      ]
    },
    {
      "cell_type": "code",
      "metadata": {
        "id": "eGMw06NuJc1v",
        "colab_type": "code",
        "colab": {}
      },
      "source": [
        "#---PREDICT NEW TEXT---#\n",
        "def get_encode(x):\n",
        "    x = cleanhtml(x)\n",
        "    x = tokenizer.texts_to_sequences(x)\n",
        "    x = tf.keras.preprocessing.sequence.pad_sequences(x, maxlen=max_length, padding='post')\n",
        "    return x"
      ],
      "execution_count": 20,
      "outputs": []
    },
    {
      "cell_type": "code",
      "metadata": {
        "id": "K1fcnZAY7eHU",
        "colab_type": "code",
        "colab": {
          "base_uri": "https://localhost:8080/",
          "height": 34
        },
        "outputId": "566f6447-2e5e-47fb-ab4f-5cce727db6c0"
      },
      "source": [
        "#How to predict our own text.\n",
        "text=['<p>I want to write a bash script which takes different arguments. It should be used like normal linux console programs:</p><p>my_bash_script -p 2 -l 5 -t 20 So the value 2 should be saved in a variable called pages and the parameter l should be saved in a variable called length and the value 20 should be saved in a variable time.</p><p>What is the best way to do this?</p>']\n",
        "\n",
        "text_sequences = tokenizer.texts_to_sequences(text)\n",
        "text_padded = tf.keras.preprocessing.sequence.pad_sequences(text_sequences, maxlen=max_length)\n",
        "\n",
        "text_padded.shape\n",
        "y_pred = model.predict(text_padded)\n",
        "y_pred = y_pred.round()\n",
        "print(y_pred)"
      ],
      "execution_count": 25,
      "outputs": [
        {
          "output_type": "stream",
          "text": [
            "[[1. 0. 0.]]\n"
          ],
          "name": "stdout"
        }
      ]
    },
    {
      "cell_type": "code",
      "metadata": {
        "id": "XFXdrtGnGvJ_",
        "colab_type": "code",
        "colab": {
          "base_uri": "https://localhost:8080/",
          "height": 34
        },
        "outputId": "1f88241a-d9e2-4eec-f600-aeb481dc44c5"
      },
      "source": [
        "text2 = [\"<p>205</p><p> 108 I have a data frame with one column and Id like to split it into two columns, with one column header as 'fips' and the other 'row'</p><p>My dataframe df looks like this:</p><p> row 0 00000 UNITED STATES 1 01000 ALABAMA 2 01001 Autauga County, AL 3 01003 Baldwin County, AL 4 01005 Barbour County, AL I do not know how to use df.row.str[:] to achieve my goal of splitting the row cell. I can use df['fips'] = hello to add a new column and populate it with hello. Any ideas?</p><p> fips row 0 00000 UNITED STATES 1 01000 ALABAMA  2 01001 Autauga County, AL 3 01003 Baldwin County, AL 4 01005 Barbour County, AL</p>\"]\n",
        "text_sequences = tokenizer.texts_to_sequences(text2)\n",
        "text2_padded = tf.keras.preprocessing.sequence.pad_sequences(text_sequences, maxlen=max_length)\n",
        "\n",
        "text_padded.shape\n",
        "y_pred = model.predict(text2_padded)\n",
        "y_pred = y_pred.round()\n",
        "print(y_pred)"
      ],
      "execution_count": 26,
      "outputs": [
        {
          "output_type": "stream",
          "text": [
            "[[0. 1. 0.]]\n"
          ],
          "name": "stdout"
        }
      ]
    },
    {
      "cell_type": "code",
      "metadata": {
        "id": "lDkZVTncH3qF",
        "colab_type": "code",
        "colab": {
          "base_uri": "https://localhost:8080/",
          "height": 34
        },
        "outputId": "9778e062-045b-4310-8d5e-f79faec41850"
      },
      "source": [
        "text=[\"I accidentally committed the wrong files to Git, but I haven't pushed the commit to the server yet.How can I undo those commits from the local repository?\"]\n",
        "\n",
        "text_sequences = tokenizer.texts_to_sequences(text)\n",
        "text_padded = tf.keras.preprocessing.sequence.pad_sequences(text_sequences, maxlen=max_length)\n",
        "\n",
        "text_padded.shape\n",
        "y_pred = model.predict(text_padded)\n",
        "print(y_pred)"
      ],
      "execution_count": 27,
      "outputs": [
        {
          "output_type": "stream",
          "text": [
            "[[0.26428354 0.02285744 0.712859  ]]\n"
          ],
          "name": "stdout"
        }
      ]
    }
  ]
}